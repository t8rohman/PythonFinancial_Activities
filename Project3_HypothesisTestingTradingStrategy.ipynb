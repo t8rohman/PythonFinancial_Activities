{
 "cells": [
  {
   "cell_type": "markdown",
   "id": "f6457eab",
   "metadata": {},
   "source": [
    "# Basic Concept of Population and Sample\n",
    "\n",
    "Before applying statistics into our stock data, let's find out the basic concept of population and sample."
   ]
  },
  {
   "cell_type": "code",
   "execution_count": 16,
   "id": "fac94d4c",
   "metadata": {},
   "outputs": [],
   "source": [
    "# Import packages\n",
    "\n",
    "import numpy as np\n",
    "import pandas as pd\n",
    "from scipy.stats import norm\n",
    "\n",
    "import matplotlib.pyplot as plt\n",
    "%matplotlib inline"
   ]
  },
  {
   "cell_type": "code",
   "execution_count": 17,
   "id": "92417e74",
   "metadata": {
    "scrolled": true
   },
   "outputs": [
    {
     "data": {
      "text/html": [
       "<div>\n",
       "<style scoped>\n",
       "    .dataframe tbody tr th:only-of-type {\n",
       "        vertical-align: middle;\n",
       "    }\n",
       "\n",
       "    .dataframe tbody tr th {\n",
       "        vertical-align: top;\n",
       "    }\n",
       "\n",
       "    .dataframe thead th {\n",
       "        text-align: right;\n",
       "    }\n",
       "</style>\n",
       "<table border=\"1\" class=\"dataframe\">\n",
       "  <thead>\n",
       "    <tr style=\"text-align: right;\">\n",
       "      <th></th>\n",
       "      <th>Population</th>\n",
       "    </tr>\n",
       "  </thead>\n",
       "  <tbody>\n",
       "    <tr>\n",
       "      <th>0</th>\n",
       "      <td>47</td>\n",
       "    </tr>\n",
       "    <tr>\n",
       "      <th>1</th>\n",
       "      <td>48</td>\n",
       "    </tr>\n",
       "    <tr>\n",
       "      <th>2</th>\n",
       "      <td>85</td>\n",
       "    </tr>\n",
       "    <tr>\n",
       "      <th>3</th>\n",
       "      <td>20</td>\n",
       "    </tr>\n",
       "    <tr>\n",
       "      <th>4</th>\n",
       "      <td>19</td>\n",
       "    </tr>\n",
       "    <tr>\n",
       "      <th>5</th>\n",
       "      <td>13</td>\n",
       "    </tr>\n",
       "    <tr>\n",
       "      <th>6</th>\n",
       "      <td>72</td>\n",
       "    </tr>\n",
       "    <tr>\n",
       "      <th>7</th>\n",
       "      <td>16</td>\n",
       "    </tr>\n",
       "    <tr>\n",
       "      <th>8</th>\n",
       "      <td>50</td>\n",
       "    </tr>\n",
       "    <tr>\n",
       "      <th>9</th>\n",
       "      <td>60</td>\n",
       "    </tr>\n",
       "  </tbody>\n",
       "</table>\n",
       "</div>"
      ],
      "text/plain": [
       "   Population\n",
       "0          47\n",
       "1          48\n",
       "2          85\n",
       "3          20\n",
       "4          19\n",
       "5          13\n",
       "6          72\n",
       "7          16\n",
       "8          50\n",
       "9          60"
      ]
     },
     "execution_count": 17,
     "metadata": {},
     "output_type": "execute_result"
    }
   ],
   "source": [
    "# Create a population in a Data Frame with size (N) = 10\n",
    "\n",
    "df_pop = pd.DataFrame()\n",
    "df_pop['Population'] = pd.DataFrame([47, 48, 85, 20, 19, 13, 72, 16, 50, 60])\n",
    "df_pop"
   ]
  },
  {
   "cell_type": "code",
   "execution_count": 18,
   "id": "e182eb58",
   "metadata": {
    "scrolled": true
   },
   "outputs": [
    {
     "name": "stdout",
     "output_type": "stream",
     "text": [
      "5    13\n",
      "9    60\n",
      "8    50\n",
      "5    13\n",
      "0    47\n",
      "Name: Population, dtype: int64\n",
      "4    19\n",
      "1    48\n",
      "9    60\n",
      "3    20\n",
      "6    72\n",
      "Name: Population, dtype: int64\n"
     ]
    }
   ],
   "source": [
    "# Take a sample with replacement, with sample size (n) = 5\n",
    "\n",
    "df_smp_rep = df_pop.sample(5, replace = True)\n",
    "print(df_smp_rep['Population'])\n",
    "\n",
    "# Take a sample without replacement, with sample size (n) = 5\n",
    "\n",
    "df_smp_norep = df_pop.sample(5, replace = False)\n",
    "print(df_smp_norep['Population'])"
   ]
  },
  {
   "cell_type": "markdown",
   "id": "6a4db3af",
   "metadata": {},
   "source": [
    "### Parameter and Statistics"
   ]
  },
  {
   "cell_type": "code",
   "execution_count": 20,
   "id": "b70a5602",
   "metadata": {
    "scrolled": true
   },
   "outputs": [
    {
     "name": "stdout",
     "output_type": "stream",
     "text": [
      "Population mean is  43.0\n",
      "Population variance is 635.3333333333334\n"
     ]
    }
   ],
   "source": [
    "# Calculate population mean and variance\n",
    "\n",
    "pop_mean = df_pop['Population'].mean()\n",
    "pop_var = df_pop['Population'].var()\n",
    "\n",
    "print('Population mean is ', pop_mean)\n",
    "print('Population variance is', pop_var)"
   ]
  },
  {
   "cell_type": "code",
   "execution_count": 21,
   "id": "863622a4",
   "metadata": {},
   "outputs": [
    {
     "name": "stdout",
     "output_type": "stream",
     "text": [
      "Sample mean is  36.6\n",
      "Population variance is 487.29999999999995\n"
     ]
    }
   ],
   "source": [
    "# Calculate sample mean and variance\n",
    "\n",
    "smp_mean = df_smp_rep['Population'].mean()\n",
    "smp_var = df_smp_rep['Population'].var()\n",
    "\n",
    "print('Sample mean is ', smp_mean)\n",
    "print('Population variance is', smp_var)"
   ]
  },
  {
   "cell_type": "markdown",
   "id": "8ec1a12e",
   "metadata": {},
   "source": [
    "### Average Unbiased Estimator"
   ]
  },
  {
   "cell_type": "code",
   "execution_count": 22,
   "id": "12de52e8",
   "metadata": {
    "scrolled": true
   },
   "outputs": [
    {
     "name": "stdout",
     "output_type": "stream",
     "text": [
      "\n",
      "Average unbiased estimator:  612.2710204081633\n",
      "Average biased estimator:  540.4835999999999\n"
     ]
    }
   ],
   "source": [
    "# Comparing the average biased estimator (denominator as n) vs. average unbiased estimator (n-1)\n",
    "# Difference in parameter ddof = 1 (unbiased) and ddof = 0 (biased)\n",
    "\n",
    "smp_size = 500\n",
    "smp_var_collection_be = [df_pop['Population'].sample(50, replace = True).var(ddof = 1) for i in range(smp_size)]\n",
    "smp_var_collection_ube = [df_pop['Population'].sample(50, replace = True).var(ddof = 0) for i in range(smp_size)]\n",
    "\n",
    "print()\n",
    "print('Average unbiased estimator: ', smp_var_collection_be[0].mean())\n",
    "print('Average biased estimator: ', smp_var_collection_ube[0].mean())"
   ]
  },
  {
   "cell_type": "markdown",
   "id": "b1ea8fe9",
   "metadata": {},
   "source": [
    "# Variation of Sample\n",
    "\n",
    "Now, let's talk about the concept of variation of the sample from the population."
   ]
  },
  {
   "cell_type": "code",
   "execution_count": 39,
   "id": "37404d5f",
   "metadata": {
    "scrolled": true
   },
   "outputs": [
    {
     "name": "stdout",
     "output_type": "stream",
     "text": [
      "Mean:  20.1203807617058\n",
      "Std. Dev:  10.050962703896971\n"
     ]
    }
   ],
   "source": [
    "# Create a random sampling from normal distribution\n",
    "# Using np.random.normal() with parameter mean = 20, std. dev = 10\n",
    "\n",
    "fstsmp = pd.DataFrame(np.random.normal(20, 10, size = 50))\n",
    "print('Mean: ', fstsmp[0].mean()) \n",
    "print('Std. Dev: ', fstsmp[0].std())"
   ]
  },
  {
   "cell_type": "markdown",
   "id": "3963d083",
   "metadata": {},
   "source": [
    "### Empirical Distribution of Mean"
   ]
  },
  {
   "cell_type": "code",
   "execution_count": 43,
   "id": "aa466a79",
   "metadata": {},
   "outputs": [
    {
     "data": {
      "text/plain": [
       "[18.106544547062086,\n",
       " 19.7713998540146,\n",
       " 19.350583182203014,\n",
       " 19.510322881782376,\n",
       " 22.186565888205532,\n",
       " 21.31358818417765,\n",
       " 19.485456332089438,\n",
       " 20.09746242268595,\n",
       " 21.33227647681367,\n",
       " 19.801034969590713]"
      ]
     },
     "execution_count": 43,
     "metadata": {},
     "output_type": "execute_result"
    }
   ],
   "source": [
    "# Create a meanlist \n",
    "\n",
    "meanlist = []\n",
    "for i in range(5000):\n",
    "    smp = pd.DataFrame(np.random.normal(20, 10, size = 50))\n",
    "    meanlist.append(smp[0].mean())\n",
    "    \n",
    "meanlist[0:10]"
   ]
  },
  {
   "cell_type": "code",
   "execution_count": 45,
   "id": "0ac6a60f",
   "metadata": {},
   "outputs": [
    {
     "data": {
      "text/html": [
       "<div>\n",
       "<style scoped>\n",
       "    .dataframe tbody tr th:only-of-type {\n",
       "        vertical-align: middle;\n",
       "    }\n",
       "\n",
       "    .dataframe tbody tr th {\n",
       "        vertical-align: top;\n",
       "    }\n",
       "\n",
       "    .dataframe thead th {\n",
       "        text-align: right;\n",
       "    }\n",
       "</style>\n",
       "<table border=\"1\" class=\"dataframe\">\n",
       "  <thead>\n",
       "    <tr style=\"text-align: right;\">\n",
       "      <th></th>\n",
       "      <th>meanlist</th>\n",
       "    </tr>\n",
       "  </thead>\n",
       "  <tbody>\n",
       "    <tr>\n",
       "      <th>0</th>\n",
       "      <td>18.106545</td>\n",
       "    </tr>\n",
       "    <tr>\n",
       "      <th>1</th>\n",
       "      <td>19.771400</td>\n",
       "    </tr>\n",
       "    <tr>\n",
       "      <th>2</th>\n",
       "      <td>19.350583</td>\n",
       "    </tr>\n",
       "    <tr>\n",
       "      <th>3</th>\n",
       "      <td>19.510323</td>\n",
       "    </tr>\n",
       "    <tr>\n",
       "      <th>4</th>\n",
       "      <td>22.186566</td>\n",
       "    </tr>\n",
       "    <tr>\n",
       "      <th>...</th>\n",
       "      <td>...</td>\n",
       "    </tr>\n",
       "    <tr>\n",
       "      <th>4995</th>\n",
       "      <td>19.625895</td>\n",
       "    </tr>\n",
       "    <tr>\n",
       "      <th>4996</th>\n",
       "      <td>19.685139</td>\n",
       "    </tr>\n",
       "    <tr>\n",
       "      <th>4997</th>\n",
       "      <td>19.874383</td>\n",
       "    </tr>\n",
       "    <tr>\n",
       "      <th>4998</th>\n",
       "      <td>20.136141</td>\n",
       "    </tr>\n",
       "    <tr>\n",
       "      <th>4999</th>\n",
       "      <td>22.638169</td>\n",
       "    </tr>\n",
       "  </tbody>\n",
       "</table>\n",
       "<p>5000 rows × 1 columns</p>\n",
       "</div>"
      ],
      "text/plain": [
       "       meanlist\n",
       "0     18.106545\n",
       "1     19.771400\n",
       "2     19.350583\n",
       "3     19.510323\n",
       "4     22.186566\n",
       "...         ...\n",
       "4995  19.625895\n",
       "4996  19.685139\n",
       "4997  19.874383\n",
       "4998  20.136141\n",
       "4999  22.638169\n",
       "\n",
       "[5000 rows x 1 columns]"
      ]
     },
     "execution_count": 45,
     "metadata": {},
     "output_type": "execute_result"
    }
   ],
   "source": [
    "collect = pd.DataFrame()\n",
    "collect['meanlist'] = meanlist\n",
    "\n",
    "collect"
   ]
  },
  {
   "cell_type": "code",
   "execution_count": 51,
   "id": "8536da09",
   "metadata": {},
   "outputs": [
    {
     "data": {
      "text/plain": [
       "<AxesSubplot:>"
      ]
     },
     "execution_count": 51,
     "metadata": {},
     "output_type": "execute_result"
    },
    {
     "data": {
      "image/png": "[encoded data removed]",
      "text/plain": [
       "<Figure size 1080x576 with 1 Axes>"
      ]
     },
     "metadata": {
      "needs_background": "light"
     },
     "output_type": "display_data"
    }
   ],
   "source": [
    "collect['meanlist'].hist(bins = 100, density = True, stacked = True, figsize = (15, 8))"
   ]
  },
  {
   "cell_type": "markdown",
   "id": "58d27bf9",
   "metadata": {},
   "source": [
    "### Sampling from Skewed Distribution"
   ]
  },
  {
   "cell_type": "code",
   "execution_count": 60,
   "id": "5830ea70",
   "metadata": {
    "scrolled": true
   },
   "outputs": [
    {
     "data": {
      "text/plain": [
       "array([[<AxesSubplot:title={'center':'meanlist'}>]], dtype=object)"
      ]
     },
     "execution_count": 60,
     "metadata": {},
     "output_type": "execute_result"
    },
    {
     "data": {
      "image/png": "[encoded data removed]",
      "text/plain": [
       "<Figure size 1080x576 with 1 Axes>"
      ]
     },
     "metadata": {
      "needs_background": "light"
     },
     "output_type": "display_data"
    }
   ],
   "source": [
    "# Central Limit Theorem\n",
    "# If the sample size is large enough, the distribution of sample mean is approximately normal\n",
    "# Even the population is non-normal distributed\n",
    "# Try with a small sample size\n",
    "\n",
    "apop =  pd.DataFrame([1, 0, 1, 0, 1])\n",
    "\n",
    "smp2_size = 100\n",
    "smp2_meanlist = []\n",
    "for t in range(50):\n",
    "    smp2 = apop[0].sample(smp2_size, replace = True)\n",
    "    smp2_meanlist.append(smp2.mean())\n",
    "\n",
    "collec2 = pd.DataFrame()\n",
    "collec2['meanlist'] = smp2_meanlist\n",
    "collec2.hist(bins = 100, density = True, stacked = True, figsize = (15, 8))"
   ]
  },
  {
   "cell_type": "code",
   "execution_count": 62,
   "id": "729cd396",
   "metadata": {},
   "outputs": [
    {
     "data": {
      "text/plain": [
       "array([[<AxesSubplot:title={'center':'meanlist'}>]], dtype=object)"
      ]
     },
     "execution_count": 62,
     "metadata": {},
     "output_type": "execute_result"
    },
    {
     "data": {
      "image/png": "[encoded data removed]",
      "text/plain": [
       "<Figure size 1080x576 with 1 Axes>"
      ]
     },
     "metadata": {
      "needs_background": "light"
     },
     "output_type": "display_data"
    }
   ],
   "source": [
    "# Try with a large sample size\n",
    "# Changing parameter in the iternation range\n",
    "\n",
    "smp3_size = 100\n",
    "smp3_meanlist = []\n",
    "for t in range(10000):\n",
    "    smp3 = apop[0].sample(smp3_size, replace = True)\n",
    "    smp3_meanlist.append(smbp3.mean())\n",
    "\n",
    "collec3 = pd.DataFrame()\n",
    "collec3['meanlist'] = smp3_meanlist\n",
    "collec3.hist(bins = 100, density = True, stacked = True, figsize = (15, 8))"
   ]
  },
  {
   "cell_type": "markdown",
   "id": "58a08e73",
   "metadata": {},
   "source": [
    "# Estimate the Average Stock Return \n",
    "\n",
    "Now, let's apply the confidence interval to our stock data. I will be using the Facebook data to analyze it's average stock return using confidence interval."
   ]
  },
  {
   "cell_type": "code",
   "execution_count": 68,
   "id": "b7e53c25",
   "metadata": {},
   "outputs": [
    {
     "data": {
      "text/html": [
       "<div>\n",
       "<style scoped>\n",
       "    .dataframe tbody tr th:only-of-type {\n",
       "        vertical-align: middle;\n",
       "    }\n",
       "\n",
       "    .dataframe tbody tr th {\n",
       "        vertical-align: top;\n",
       "    }\n",
       "\n",
       "    .dataframe thead th {\n",
       "        text-align: right;\n",
       "    }\n",
       "</style>\n",
       "<table border=\"1\" class=\"dataframe\">\n",
       "  <thead>\n",
       "    <tr style=\"text-align: right;\">\n",
       "      <th></th>\n",
       "      <th>Open</th>\n",
       "      <th>High</th>\n",
       "      <th>Low</th>\n",
       "      <th>Close</th>\n",
       "      <th>Adj Close</th>\n",
       "      <th>Volume</th>\n",
       "    </tr>\n",
       "    <tr>\n",
       "      <th>Date</th>\n",
       "      <th></th>\n",
       "      <th></th>\n",
       "      <th></th>\n",
       "      <th></th>\n",
       "      <th></th>\n",
       "      <th></th>\n",
       "    </tr>\n",
       "  </thead>\n",
       "  <tbody>\n",
       "    <tr>\n",
       "      <th>2014-12-31</th>\n",
       "      <td>20.400000</td>\n",
       "      <td>20.510000</td>\n",
       "      <td>19.990000</td>\n",
       "      <td>20.049999</td>\n",
       "      <td>19.459270</td>\n",
       "      <td>4157500</td>\n",
       "    </tr>\n",
       "    <tr>\n",
       "      <th>2015-01-02</th>\n",
       "      <td>20.129999</td>\n",
       "      <td>20.280001</td>\n",
       "      <td>19.809999</td>\n",
       "      <td>20.129999</td>\n",
       "      <td>19.536913</td>\n",
       "      <td>2842000</td>\n",
       "    </tr>\n",
       "    <tr>\n",
       "      <th>2015-01-05</th>\n",
       "      <td>20.129999</td>\n",
       "      <td>20.190001</td>\n",
       "      <td>19.700001</td>\n",
       "      <td>19.790001</td>\n",
       "      <td>19.206934</td>\n",
       "      <td>4948800</td>\n",
       "    </tr>\n",
       "    <tr>\n",
       "      <th>2015-01-06</th>\n",
       "      <td>19.820000</td>\n",
       "      <td>19.840000</td>\n",
       "      <td>19.170000</td>\n",
       "      <td>19.190001</td>\n",
       "      <td>18.624611</td>\n",
       "      <td>4944100</td>\n",
       "    </tr>\n",
       "    <tr>\n",
       "      <th>2015-01-07</th>\n",
       "      <td>19.330000</td>\n",
       "      <td>19.500000</td>\n",
       "      <td>19.080000</td>\n",
       "      <td>19.139999</td>\n",
       "      <td>18.576082</td>\n",
       "      <td>8045200</td>\n",
       "    </tr>\n",
       "  </tbody>\n",
       "</table>\n",
       "</div>"
      ],
      "text/plain": [
       "                 Open       High        Low      Close  Adj Close   Volume\n",
       "Date                                                                      \n",
       "2014-12-31  20.400000  20.510000  19.990000  20.049999  19.459270  4157500\n",
       "2015-01-02  20.129999  20.280001  19.809999  20.129999  19.536913  2842000\n",
       "2015-01-05  20.129999  20.190001  19.700001  19.790001  19.206934  4948800\n",
       "2015-01-06  19.820000  19.840000  19.170000  19.190001  18.624611  4944100\n",
       "2015-01-07  19.330000  19.500000  19.080000  19.139999  18.576082  8045200"
      ]
     },
     "execution_count": 68,
     "metadata": {},
     "output_type": "execute_result"
    }
   ],
   "source": [
    "# Importing Facebook stock to data frame\n",
    "# Cleaning the Facebook stock data frame\n",
    "\n",
    "df_fb = pd.read_csv('data/facebook.csv', index_col = 0)\n",
    "df_fb.index = pd.to_datetime(df_fb.index)\n",
    "\n",
    "df_fb.head()"
   ]
  },
  {
   "cell_type": "code",
   "execution_count": 81,
   "id": "22968604",
   "metadata": {
    "scrolled": false
   },
   "outputs": [
    {
     "data": {
      "text/html": [
       "<div>\n",
       "<style scoped>\n",
       "    .dataframe tbody tr th:only-of-type {\n",
       "        vertical-align: middle;\n",
       "    }\n",
       "\n",
       "    .dataframe tbody tr th {\n",
       "        vertical-align: top;\n",
       "    }\n",
       "\n",
       "    .dataframe thead th {\n",
       "        text-align: right;\n",
       "    }\n",
       "</style>\n",
       "<table border=\"1\" class=\"dataframe\">\n",
       "  <thead>\n",
       "    <tr style=\"text-align: right;\">\n",
       "      <th></th>\n",
       "      <th>Open</th>\n",
       "      <th>High</th>\n",
       "      <th>Low</th>\n",
       "      <th>Close</th>\n",
       "      <th>Adj Close</th>\n",
       "      <th>Volume</th>\n",
       "      <th>LogDR</th>\n",
       "    </tr>\n",
       "    <tr>\n",
       "      <th>Date</th>\n",
       "      <th></th>\n",
       "      <th></th>\n",
       "      <th></th>\n",
       "      <th></th>\n",
       "      <th></th>\n",
       "      <th></th>\n",
       "      <th></th>\n",
       "    </tr>\n",
       "  </thead>\n",
       "  <tbody>\n",
       "    <tr>\n",
       "      <th>2014-12-31</th>\n",
       "      <td>20.400000</td>\n",
       "      <td>20.510000</td>\n",
       "      <td>19.990000</td>\n",
       "      <td>20.049999</td>\n",
       "      <td>19.459270</td>\n",
       "      <td>4157500</td>\n",
       "      <td>0.003982</td>\n",
       "    </tr>\n",
       "    <tr>\n",
       "      <th>2015-01-02</th>\n",
       "      <td>20.129999</td>\n",
       "      <td>20.280001</td>\n",
       "      <td>19.809999</td>\n",
       "      <td>20.129999</td>\n",
       "      <td>19.536913</td>\n",
       "      <td>2842000</td>\n",
       "      <td>-0.017034</td>\n",
       "    </tr>\n",
       "    <tr>\n",
       "      <th>2015-01-05</th>\n",
       "      <td>20.129999</td>\n",
       "      <td>20.190001</td>\n",
       "      <td>19.700001</td>\n",
       "      <td>19.790001</td>\n",
       "      <td>19.206934</td>\n",
       "      <td>4948800</td>\n",
       "      <td>-0.030787</td>\n",
       "    </tr>\n",
       "    <tr>\n",
       "      <th>2015-01-06</th>\n",
       "      <td>19.820000</td>\n",
       "      <td>19.840000</td>\n",
       "      <td>19.170000</td>\n",
       "      <td>19.190001</td>\n",
       "      <td>18.624611</td>\n",
       "      <td>4944100</td>\n",
       "      <td>-0.002609</td>\n",
       "    </tr>\n",
       "    <tr>\n",
       "      <th>2015-01-07</th>\n",
       "      <td>19.330000</td>\n",
       "      <td>19.500000</td>\n",
       "      <td>19.080000</td>\n",
       "      <td>19.139999</td>\n",
       "      <td>18.576082</td>\n",
       "      <td>8045200</td>\n",
       "      <td>0.036927</td>\n",
       "    </tr>\n",
       "  </tbody>\n",
       "</table>\n",
       "</div>"
      ],
      "text/plain": [
       "                 Open       High        Low      Close  Adj Close   Volume  \\\n",
       "Date                                                                         \n",
       "2014-12-31  20.400000  20.510000  19.990000  20.049999  19.459270  4157500   \n",
       "2015-01-02  20.129999  20.280001  19.809999  20.129999  19.536913  2842000   \n",
       "2015-01-05  20.129999  20.190001  19.700001  19.790001  19.206934  4948800   \n",
       "2015-01-06  19.820000  19.840000  19.170000  19.190001  18.624611  4944100   \n",
       "2015-01-07  19.330000  19.500000  19.080000  19.139999  18.576082  8045200   \n",
       "\n",
       "               LogDR  \n",
       "Date                  \n",
       "2014-12-31  0.003982  \n",
       "2015-01-02 -0.017034  \n",
       "2015-01-05 -0.030787  \n",
       "2015-01-06 -0.002609  \n",
       "2015-01-07  0.036927  "
      ]
     },
     "execution_count": 81,
     "metadata": {},
     "output_type": "execute_result"
    }
   ],
   "source": [
    "# Calculate the log daily return of Facebook stock\n",
    "\n",
    "df_fb['LogDR'] = np.log(df_fb['Close'].shift(-1)) - np.log(df_fb['Close'])\n",
    "df_fb.head()"
   ]
  },
  {
   "cell_type": "code",
   "execution_count": 84,
   "id": "cb15d28c",
   "metadata": {},
   "outputs": [
    {
     "name": "stdout",
     "output_type": "stream",
     "text": [
      "780 0.0030376688631700453 0.0008973570533173784\n"
     ]
    }
   ],
   "source": [
    "# Calculate sample size, mean, and standard deviation\n",
    "\n",
    "smp_size = df_fb['LogDR'].shape[0]\n",
    "smp_mean = df_fb['LogDR'].mean()\n",
    "smp_std = df_fb['LogDR'].std(ddof = 1) / smp_size ** 0.5\n",
    "\n",
    "print(smp_size, smp_mean, smp_std)"
   ]
  },
  {
   "cell_type": "code",
   "execution_count": 90,
   "id": "2474af7c",
   "metadata": {},
   "outputs": [
    {
     "name": "stdout",
     "output_type": "stream",
     "text": [
      "Sample mean is  0.0030376688631700453\n",
      "90% confidence interval is  (0.0015616478593504692, 0.00451368986698962)\n"
     ]
    }
   ],
   "source": [
    "# Calculate right and left quantile\n",
    "# Set ppf parameter to 0.05 and 0.95\n",
    "\n",
    "z_left = norm.ppf(0.05)\n",
    "z_right = norm.ppf(0.95)\n",
    "\n",
    "# Calculate interval\n",
    "\n",
    "interval_left = smp_mean + (z_left * smp_std)\n",
    "interval_right = smp_mean + (z_right * smp_std)\n",
    "\n",
    "print('Sample mean is ', smp_mean)\n",
    "print('90% confidence interval is ', (interval_left, interval_right))\n",
    "\n",
    "# Both of the intervals are positive number, this implies that the average daily return is likely to be positive."
   ]
  },
  {
   "cell_type": "markdown",
   "id": "2fea785d",
   "metadata": {},
   "source": [
    "# Validate the Average Stock Return\n",
    "\n",
    "Now, let's validate whether the average stock return is positive or not using hypothesis testing. I will still use the Facebook stock data from previous module."
   ]
  },
  {
   "cell_type": "code",
   "execution_count": 99,
   "id": "dd7e52ae",
   "metadata": {
    "scrolled": true
   },
   "outputs": [
    {
     "data": {
      "text/plain": [
       "<function matplotlib.pyplot.show(close=None, block=None)>"
      ]
     },
     "execution_count": 99,
     "metadata": {},
     "output_type": "execute_result"
    },
    {
     "data": {
      "image/png": "[encoded data removed]",
      "text/plain": [
       "<Figure size 1440x576 with 1 Axes>"
      ]
     },
     "metadata": {
      "needs_background": "light"
     },
     "output_type": "display_data"
    }
   ],
   "source": [
    "df_fb['Close'].plot(figsize=(20, 8))\n",
    "plt.show"
   ]
  },
  {
   "cell_type": "code",
   "execution_count": 100,
   "id": "75b43e52",
   "metadata": {
    "scrolled": true
   },
   "outputs": [
    {
     "data": {
      "image/png": "[encoded data removed]",
      "text/plain": [
       "<Figure size 1440x576 with 1 Axes>"
      ]
     },
     "metadata": {
      "needs_background": "light"
     },
     "output_type": "display_data"
    }
   ],
   "source": [
    "df_fb['LogDR'].plot(figsize=(20, 8))\n",
    "plt.axhline(0, color='red')\n",
    "plt.show()"
   ]
  },
  {
   "cell_type": "markdown",
   "id": "4b7db97a",
   "metadata": {},
   "source": [
    "From the first visualization, I can see that the stock price increases from time to time. But, looking from the second visualization, I can see that sometimes price goes up, and sometimes price goes down. To validate whether the average stock return is positive or negative, I will use the hypothesis testing."
   ]
  },
  {
   "cell_type": "markdown",
   "id": "6bbd28c5",
   "metadata": {},
   "source": [
    "### Two-tail test\n",
    "\n",
    "$H_0 : \\mu = 0$ \n",
    "$H_a : \\mu \\neq 0$\n",
    "\n",
    "$H_0$ means the average stock return is 0 \\\n",
    "$H_a$ means the average stock return is not equal to 0"
   ]
  },
  {
   "cell_type": "code",
   "execution_count": 105,
   "id": "44c92fc2",
   "metadata": {},
   "outputs": [
    {
     "name": "stdout",
     "output_type": "stream",
     "text": [
      "3.385128418994751\n"
     ]
    }
   ],
   "source": [
    "# Recall the test statistic of the sample\n",
    "\n",
    "smp_size = df_fb['LogDR'].shape[0]\n",
    "smp_mean = df_fb['LogDR'].mean()\n",
    "smp_std = df_fb['LogDR'].std(ddof = 1)\n",
    "\n",
    "# If sample size n is large enough, we can use z-dist instead of t-dist\n",
    "# I have 780 records for the sample, it is large enough\n",
    "# Calculate z-dist with assumption mu population = 0\n",
    "\n",
    "z_hat = (smp_mean - 0) / (smp_std / smp_size ** 0.5)\n",
    "print(z_hat)"
   ]
  },
  {
   "cell_type": "code",
   "execution_count": 109,
   "id": "ef728767",
   "metadata": {
    "scrolled": true
   },
   "outputs": [
    {
     "name": "stdout",
     "output_type": "stream",
     "text": [
      "-1.9599639845400545 1.9599639845400545\n"
     ]
    }
   ],
   "source": [
    "# Set decision criteria, with confidence level at 0.05\n",
    "# Set norm.ppf to standard normal distribution\n",
    "\n",
    "alp = 0.05\n",
    "z_left = norm.ppf(alp / 2, 0, 1)\n",
    "z_right = - z_left\n",
    "print(z_left, z_right)"
   ]
  },
  {
   "cell_type": "code",
   "execution_count": 112,
   "id": "4ee0a70b",
   "metadata": {},
   "outputs": [
    {
     "name": "stdout",
     "output_type": "stream",
     "text": [
      "Because z_hat outside the z_left and z_right, I shall reject the null hypothesis\n"
     ]
    }
   ],
   "source": [
    "# Test the z_hat to the z_left and z_right\n",
    "\n",
    "if z_hat < z_left or z_hat > z_right :\n",
    "    print(\"Because z_hat outside the z_left and z_right, I shall reject the null hypothesis\") \n",
    "else :\n",
    "    print(\"Because z_hat inside the z_left and z_right, I didn't reject the null hypothesis\")"
   ]
  },
  {
   "cell_type": "markdown",
   "id": "6976136d",
   "metadata": {},
   "source": [
    "From this, we know that the sample mean is not equal to 0. Thus, the average return of stock is not equal to zero. Now, I would like to know whether the average return stock is positive or not using one-tail test."
   ]
  },
  {
   "cell_type": "markdown",
   "id": "7b17886d",
   "metadata": {},
   "source": [
    "### One-Tail Test\n",
    "\n",
    "Let's find out if the average return stock of Facebook is positive or negative.\n",
    "\n",
    "$H_0 : \\mu \\leq 0$ \\\n",
    "$H_a : \\mu > 0$\n",
    "\n",
    "$H_0$ means the average stock return is 0 \\\n",
    "$H_a$ means the average stock return is not equal to 0"
   ]
  },
  {
   "cell_type": "code",
   "execution_count": 114,
   "id": "974aa9f7",
   "metadata": {
    "scrolled": true
   },
   "outputs": [
    {
     "name": "stdout",
     "output_type": "stream",
     "text": [
      "1.6448536269514722\n"
     ]
    }
   ],
   "source": [
    "# Set decision criteria, with confidence level at 0.05\n",
    "# Set norm.ppf to standard normal distribution\n",
    "\n",
    "alp = 0.05\n",
    "z_right_ott = norm.ppf(1 - alp, 0, 1)\n",
    "print(z_right_ott)"
   ]
  },
  {
   "cell_type": "code",
   "execution_count": 116,
   "id": "f67014ba",
   "metadata": {
    "scrolled": true
   },
   "outputs": [
    {
     "name": "stdout",
     "output_type": "stream",
     "text": [
      "Because z_hat is bigger than z_right_ott, I shall reject the null hypothesis\n"
     ]
    }
   ],
   "source": [
    "# Test the z_hat to the z_right_ott\n",
    "\n",
    "if z_hat > z_right_ott :\n",
    "    print(\"Because z_hat is bigger than z_right_ott, I shall reject the null hypothesis\") \n",
    "else :\n",
    "    print(\"Because z_hat is smaller thatn z_right_ott, I didn't reject the null hypothesis\")"
   ]
  },
  {
   "cell_type": "markdown",
   "id": "e11bfde1",
   "metadata": {},
   "source": [
    "From this, we know that the sample mean is not below 0. Thus, the average return of Facebook stock is positive from 2014 until 2018."
   ]
  },
  {
   "cell_type": "markdown",
   "id": "b82532be",
   "metadata": {},
   "source": [
    "### Alternative : Using p-value instead of z-distribution\n",
    "\n",
    "Instead of z-distribution, we can test the hypothesis using alternative calculation which is p-value."
   ]
  },
  {
   "cell_type": "code",
   "execution_count": 118,
   "id": "3a0a0530",
   "metadata": {},
   "outputs": [
    {
     "name": "stdout",
     "output_type": "stream",
     "text": [
      "0.00035572480756884683\n"
     ]
    }
   ],
   "source": [
    "# Find the p-value from z_hat\n",
    "\n",
    "p = 1 - norm.cdf(z_hat, 0, 1)\n",
    "print(p)"
   ]
  },
  {
   "cell_type": "code",
   "execution_count": 121,
   "id": "97216a38",
   "metadata": {},
   "outputs": [
    {
     "name": "stdout",
     "output_type": "stream",
     "text": [
      "Because p-value is smaller than critical value, I shall reject the null hypothesis\n"
     ]
    }
   ],
   "source": [
    "# Test the p-value to the alpha = 0.05\n",
    "\n",
    "if p < alp :\n",
    "    print(\"Because p-value is smaller than critical value, I shall reject the null hypothesis\") \n",
    "else :\n",
    "    print(\"Because p-value is bigger than critical value, I didn't reject the null hypothesis\")"
   ]
  }
 ],
 "metadata": {
  "kernelspec": {
   "display_name": "Python 3 (ipykernel)",
   "language": "python",
   "name": "python3"
  },
  "language_info": {
   "codemirror_mode": {
    "name": "ipython",
    "version": 3
   },
   "file_extension": ".py",
   "mimetype": "text/x-python",
   "name": "python",
   "nbconvert_exporter": "python",
   "pygments_lexer": "ipython3",
   "version": "3.9.12"
  }
 },
 "nbformat": 4,
 "nbformat_minor": 5
}
