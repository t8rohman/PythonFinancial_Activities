{
 "cells": [
  {
   "cell_type": "markdown",
   "id": "e4da16cf",
   "metadata": {},
   "source": [
    "# Basic Concept of Random Variables\n",
    "\n",
    "Before using the Z-Distribution into the financial data, we must know the basic knowledge of random variables first. I will use the rolling dice example for this."
   ]
  },
  {
   "cell_type": "code",
   "execution_count": 103,
   "id": "f5d4f847",
   "metadata": {},
   "outputs": [],
   "source": [
    "# Import packages\n",
    "\n",
    "import numpy as np\n",
    "import pandas as pd\n",
    "from scipy.stats import norm\n",
    "\n",
    "import matplotlib.pyplot as plt\n",
    "%matplotlib inline"
   ]
  },
  {
   "cell_type": "code",
   "execution_count": 17,
   "id": "c287af23",
   "metadata": {},
   "outputs": [
    {
     "name": "stdout",
     "output_type": "stream",
     "text": [
      "Sum of Dice is: 8\n"
     ]
    }
   ],
   "source": [
    "# Create the dice vector as simulation, rolling 2 dices\n",
    "\n",
    "dice = pd.DataFrame([1, 2, 3, 4, 5, 6])\n",
    "dice_sum = dice.sample(n = 2, replace = True).sum().iloc[0]\n",
    "\n",
    "print(\"Sum of Dice is: \" + str(dice_sum))"
   ]
  },
  {
   "cell_type": "code",
   "execution_count": 29,
   "id": "e9a74c40",
   "metadata": {},
   "outputs": [
    {
     "name": "stdout",
     "output_type": "stream",
     "text": [
      "Sum of 3 times rolling dice is: 8\n"
     ]
    }
   ],
   "source": [
    "# Create the dice vector as simulation, rolling 3 dices\n",
    "\n",
    "dice_sum_3 = dice.sample(n = 3, replace = True).sum().iloc[0]\n",
    "print(\"Sum of 3 times rolling dice is: \" + str(dice_sum_3))"
   ]
  },
  {
   "cell_type": "code",
   "execution_count": 39,
   "id": "b3cfb7f4",
   "metadata": {
    "scrolled": true
   },
   "outputs": [
    {
     "name": "stdout",
     "output_type": "stream",
     "text": [
      "[2, 11, 8, 4, 10, 2, 11, 5, 6, 5]\n"
     ]
    }
   ],
   "source": [
    "# Mimicing the rolling dice with many trials\n",
    "\n",
    "trials = 50\n",
    "dice_trials = [dice.sample(n = 2, replace = True).sum().iloc[0] for i in range(trials)]\n",
    "\n",
    "print(dice_trials[0:10])"
   ]
  },
  {
   "cell_type": "markdown",
   "id": "4ad6c302",
   "metadata": {},
   "source": [
    "# Basic Concept of Frequency and Distribution\n",
    "\n",
    "Now, let's talk about the basic concept of frequency and distribution."
   ]
  },
  {
   "cell_type": "code",
   "execution_count": 48,
   "id": "83437655",
   "metadata": {
    "scrolled": true
   },
   "outputs": [
    {
     "ename": "TypeError",
     "evalue": "'Series' object is not callable",
     "output_type": "error",
     "traceback": [
      "\u001b[0;31m---------------------------------------------------------------------------\u001b[0m",
      "\u001b[0;31mTypeError\u001b[0m                                 Traceback (most recent call last)",
      "Input \u001b[0;32mIn [48]\u001b[0m, in \u001b[0;36m<cell line: 6>\u001b[0;34m()\u001b[0m\n\u001b[1;32m      3\u001b[0m freq \u001b[38;5;241m=\u001b[39m pd\u001b[38;5;241m.\u001b[39mDataFrame(dice_trials)[\u001b[38;5;241m0\u001b[39m]\u001b[38;5;241m.\u001b[39mvalue_counts()\n\u001b[1;32m      4\u001b[0m sort_freq \u001b[38;5;241m=\u001b[39m freq\u001b[38;5;241m.\u001b[39msort_index()\n\u001b[0;32m----> 6\u001b[0m \u001b[43msort_freq\u001b[49m\u001b[43m(\u001b[49m\u001b[43m)\u001b[49m\n",
      "\u001b[0;31mTypeError\u001b[0m: 'Series' object is not callable"
     ]
    }
   ],
   "source": [
    "# Create a frequency table for rolling dice with 50 trials\n",
    "\n",
    "freq = pd.DataFrame(dice_trials)[0].value_counts()\n",
    "sort_freq = freq.sort_index()\n",
    "\n",
    "sort_freq"
   ]
  },
  {
   "cell_type": "code",
   "execution_count": 52,
   "id": "043ae466",
   "metadata": {},
   "outputs": [
    {
     "data": {
      "text/plain": [
       "<AxesSubplot:>"
      ]
     },
     "execution_count": 52,
     "metadata": {},
     "output_type": "execute_result"
    },
    {
     "data": {
      "image/png": "[encoded data removed]",
      "text/plain": [
       "<Figure size 720x432 with 1 Axes>"
      ]
     },
     "metadata": {
      "needs_background": "light"
     },
     "output_type": "display_data"
    }
   ],
   "source": [
    "# Plot the frequency in the bar plot\n",
    "\n",
    "sort_freq.plot(kind = 'bar', color = 'red', figsize = (10, 6))"
   ]
  },
  {
   "cell_type": "code",
   "execution_count": 61,
   "id": "1ff1bea3",
   "metadata": {},
   "outputs": [
    {
     "data": {
      "text/plain": [
       "<AxesSubplot:>"
      ]
     },
     "execution_count": 61,
     "metadata": {},
     "output_type": "execute_result"
    },
    {
     "data": {
      "image/png": "[encoded data removed]",
      "text/plain": [
       "<Figure size 720x432 with 1 Axes>"
      ]
     },
     "metadata": {
      "needs_background": "light"
     },
     "output_type": "display_data"
    }
   ],
   "source": [
    "# Calculate relative frequency so we can compare to other number of trials\n",
    "# Formula = How often something happens divided by all outcomes\n",
    "\n",
    "relative_freq = sort_freq / trials\n",
    "relative_freq.plot(kind = 'bar', color = 'red', figsize = (10, 6))"
   ]
  },
  {
   "cell_type": "code",
   "execution_count": 69,
   "id": "ae2272e3",
   "metadata": {},
   "outputs": [
    {
     "data": {
      "text/plain": [
       "<AxesSubplot:>"
      ]
     },
     "execution_count": 69,
     "metadata": {},
     "output_type": "execute_result"
    },
    {
     "data": {
      "image/png": "[encoded data removed]",
      "text/plain": [
       "<Figure size 720x432 with 1 Axes>"
      ]
     },
     "metadata": {
      "needs_background": "light"
     },
     "output_type": "display_data"
    }
   ],
   "source": [
    "# The bigger number of trials/sample, the distribution will be more bell-shaped\n",
    "\n",
    "trials2 = 1000\n",
    "dice_trials2 = [dice.sample(n = 2, replace = True).sum().iloc[0] for i in range(trials2)]\n",
    "\n",
    "freq2 = pd.DataFrame(dice_trials2)[0].value_counts()\n",
    "sort_freq2 = freq2.sort_index()\n",
    "\n",
    "relative_freq2 = sort_freq2 / trials2\n",
    "relative_freq2.plot(kind = 'bar', color = 'red', figsize = (10, 6))\n",
    "\n",
    "# With more trials, the result looks more and more stable, and this is very close to a probability distribution"
   ]
  },
  {
   "cell_type": "code",
   "execution_count": 70,
   "id": "b9bdb358",
   "metadata": {
    "scrolled": false
   },
   "outputs": [
    {
     "data": {
      "text/html": [
       "<div>\n",
       "<style scoped>\n",
       "    .dataframe tbody tr th:only-of-type {\n",
       "        vertical-align: middle;\n",
       "    }\n",
       "\n",
       "    .dataframe tbody tr th {\n",
       "        vertical-align: top;\n",
       "    }\n",
       "\n",
       "    .dataframe thead th {\n",
       "        text-align: right;\n",
       "    }\n",
       "</style>\n",
       "<table border=\"1\" class=\"dataframe\">\n",
       "  <thead>\n",
       "    <tr style=\"text-align: right;\">\n",
       "      <th></th>\n",
       "      <th>Prob</th>\n",
       "    </tr>\n",
       "  </thead>\n",
       "  <tbody>\n",
       "    <tr>\n",
       "      <th>2</th>\n",
       "      <td>0.027778</td>\n",
       "    </tr>\n",
       "    <tr>\n",
       "      <th>3</th>\n",
       "      <td>0.055556</td>\n",
       "    </tr>\n",
       "    <tr>\n",
       "      <th>4</th>\n",
       "      <td>0.083333</td>\n",
       "    </tr>\n",
       "    <tr>\n",
       "      <th>5</th>\n",
       "      <td>0.111111</td>\n",
       "    </tr>\n",
       "    <tr>\n",
       "      <th>6</th>\n",
       "      <td>0.138889</td>\n",
       "    </tr>\n",
       "    <tr>\n",
       "      <th>7</th>\n",
       "      <td>0.166667</td>\n",
       "    </tr>\n",
       "    <tr>\n",
       "      <th>8</th>\n",
       "      <td>0.138889</td>\n",
       "    </tr>\n",
       "    <tr>\n",
       "      <th>9</th>\n",
       "      <td>0.111111</td>\n",
       "    </tr>\n",
       "    <tr>\n",
       "      <th>10</th>\n",
       "      <td>0.083333</td>\n",
       "    </tr>\n",
       "    <tr>\n",
       "      <th>11</th>\n",
       "      <td>0.055556</td>\n",
       "    </tr>\n",
       "    <tr>\n",
       "      <th>12</th>\n",
       "      <td>0.027778</td>\n",
       "    </tr>\n",
       "  </tbody>\n",
       "</table>\n",
       "</div>"
      ],
      "text/plain": [
       "        Prob\n",
       "2   0.027778\n",
       "3   0.055556\n",
       "4   0.083333\n",
       "5   0.111111\n",
       "6   0.138889\n",
       "7   0.166667\n",
       "8   0.138889\n",
       "9   0.111111\n",
       "10  0.083333\n",
       "11  0.055556\n",
       "12  0.027778"
      ]
     },
     "execution_count": 70,
     "metadata": {},
     "output_type": "execute_result"
    }
   ],
   "source": [
    "# Now for the concept of Expectation and Variance of a distribution\n",
    "# Let's calculate all of the probability of the sum of dice\n",
    "\n",
    "X_dist = pd.DataFrame(index = [2, 3, 4, 5, 6, 7, 8, 9, 10, 11, 12])\n",
    "X_dist['Prob'] = [1, 2, 3, 4, 5, 6, 5, 4, 3, 2, 1]\n",
    "X_dist['Prob'] = X_dist['Prob'] / 36\n",
    "\n",
    "X_dist"
   ]
  },
  {
   "cell_type": "code",
   "execution_count": 77,
   "id": "b4b894c6",
   "metadata": {},
   "outputs": [
    {
     "name": "stdout",
     "output_type": "stream",
     "text": [
      "Mean: 6.999999999999998\n",
      "Variance: 5.833333333333333\n"
     ]
    }
   ],
   "source": [
    "# Mean and variance of probability could explain a distribution\n",
    "# This is a case where the probability shapes a normal distribution\n",
    "\n",
    "mean = pd.Series(X_dist.index * X_dist['Prob']).sum()\n",
    "var = pd.Series(((X_dist.index - mean) ** 2) * X_dist['Prob']).sum()\n",
    "\n",
    "print('Mean: ' + str(mean))\n",
    "print('Variance: ' + str(var))"
   ]
  },
  {
   "cell_type": "code",
   "execution_count": 86,
   "id": "c3b5e641",
   "metadata": {},
   "outputs": [],
   "source": [
    "# Now, let's prove that using empirical evidence\n",
    "# Let's use a bigger sample with 5000 trials\n",
    "\n",
    "trials3 = 20000\n",
    "dice_trials3 = [dice.sample(n = 2, replace = True).sum().iloc[0] for i in range(trials3)]\n",
    "\n",
    "freq3 = pd.DataFrame(dice_trials3)[0].value_counts()\n",
    "sort_freq3 = freq3.sort_index()"
   ]
  },
  {
   "cell_type": "code",
   "execution_count": 91,
   "id": "18c0baa5",
   "metadata": {},
   "outputs": [
    {
     "name": "stdout",
     "output_type": "stream",
     "text": [
      "7.01505 5.829314963248162\n"
     ]
    }
   ],
   "source": [
    "# Print the mean\n",
    "# It will be close to 7.00 for mean, and 5.83 for variance\n",
    "\n",
    "result = pd.Series(dice_trials3)\n",
    "print(result.mean(), result.var())"
   ]
  },
  {
   "cell_type": "code",
   "execution_count": 97,
   "id": "d6b0b6e1",
   "metadata": {},
   "outputs": [
    {
     "data": {
      "text/plain": [
       "<AxesSubplot:>"
      ]
     },
     "execution_count": 97,
     "metadata": {},
     "output_type": "execute_result"
    },
    {
     "data": {
      "image/png": "[encoded data removed]",
      "text/plain": [
       "<Figure size 720x432 with 1 Axes>"
      ]
     },
     "metadata": {
      "needs_background": "light"
     },
     "output_type": "display_data"
    }
   ],
   "source": [
    "# Let's plot it to the distribution frequency\n",
    "\n",
    "relative_freq3 = sort_freq3 / trials3\n",
    "relative_freq3.plot(kind = 'bar', color = 'orange', figsize = (10, 6))"
   ]
  },
  {
   "cell_type": "markdown",
   "id": "1c298c57",
   "metadata": {},
   "source": [
    "# Modeling the Return of the Stock\n",
    "\n",
    "After understanding the model, we can now model the probability of stock return using z-distribution. I wil use the Facebook stock price from 2015 - 2018 as an example."
   ]
  },
  {
   "cell_type": "code",
   "execution_count": 111,
   "id": "8cc593aa",
   "metadata": {
    "scrolled": true
   },
   "outputs": [
    {
     "data": {
      "text/html": [
       "<div>\n",
       "<style scoped>\n",
       "    .dataframe tbody tr th:only-of-type {\n",
       "        vertical-align: middle;\n",
       "    }\n",
       "\n",
       "    .dataframe tbody tr th {\n",
       "        vertical-align: top;\n",
       "    }\n",
       "\n",
       "    .dataframe thead th {\n",
       "        text-align: right;\n",
       "    }\n",
       "</style>\n",
       "<table border=\"1\" class=\"dataframe\">\n",
       "  <thead>\n",
       "    <tr style=\"text-align: right;\">\n",
       "      <th></th>\n",
       "      <th>Open</th>\n",
       "      <th>High</th>\n",
       "      <th>Low</th>\n",
       "      <th>Close</th>\n",
       "      <th>Adj Close</th>\n",
       "      <th>Volume</th>\n",
       "    </tr>\n",
       "    <tr>\n",
       "      <th>Date</th>\n",
       "      <th></th>\n",
       "      <th></th>\n",
       "      <th></th>\n",
       "      <th></th>\n",
       "      <th></th>\n",
       "      <th></th>\n",
       "    </tr>\n",
       "  </thead>\n",
       "  <tbody>\n",
       "    <tr>\n",
       "      <th>2014-12-31</th>\n",
       "      <td>20.400000</td>\n",
       "      <td>20.510000</td>\n",
       "      <td>19.990000</td>\n",
       "      <td>20.049999</td>\n",
       "      <td>19.459270</td>\n",
       "      <td>4157500</td>\n",
       "    </tr>\n",
       "    <tr>\n",
       "      <th>2015-01-02</th>\n",
       "      <td>20.129999</td>\n",
       "      <td>20.280001</td>\n",
       "      <td>19.809999</td>\n",
       "      <td>20.129999</td>\n",
       "      <td>19.536913</td>\n",
       "      <td>2842000</td>\n",
       "    </tr>\n",
       "    <tr>\n",
       "      <th>2015-01-05</th>\n",
       "      <td>20.129999</td>\n",
       "      <td>20.190001</td>\n",
       "      <td>19.700001</td>\n",
       "      <td>19.790001</td>\n",
       "      <td>19.206934</td>\n",
       "      <td>4948800</td>\n",
       "    </tr>\n",
       "    <tr>\n",
       "      <th>2015-01-06</th>\n",
       "      <td>19.820000</td>\n",
       "      <td>19.840000</td>\n",
       "      <td>19.170000</td>\n",
       "      <td>19.190001</td>\n",
       "      <td>18.624611</td>\n",
       "      <td>4944100</td>\n",
       "    </tr>\n",
       "    <tr>\n",
       "      <th>2015-01-07</th>\n",
       "      <td>19.330000</td>\n",
       "      <td>19.500000</td>\n",
       "      <td>19.080000</td>\n",
       "      <td>19.139999</td>\n",
       "      <td>18.576082</td>\n",
       "      <td>8045200</td>\n",
       "    </tr>\n",
       "  </tbody>\n",
       "</table>\n",
       "</div>"
      ],
      "text/plain": [
       "                 Open       High        Low      Close  Adj Close   Volume\n",
       "Date                                                                      \n",
       "2014-12-31  20.400000  20.510000  19.990000  20.049999  19.459270  4157500\n",
       "2015-01-02  20.129999  20.280001  19.809999  20.129999  19.536913  2842000\n",
       "2015-01-05  20.129999  20.190001  19.700001  19.790001  19.206934  4948800\n",
       "2015-01-06  19.820000  19.840000  19.170000  19.190001  18.624611  4944100\n",
       "2015-01-07  19.330000  19.500000  19.080000  19.139999  18.576082  8045200"
      ]
     },
     "execution_count": 111,
     "metadata": {},
     "output_type": "execute_result"
    }
   ],
   "source": [
    "df_fb = pd.read_csv('data/facebook.csv', index_col = 0)\n",
    "df_fb.head()"
   ]
  },
  {
   "cell_type": "code",
   "execution_count": 118,
   "id": "301c3c03",
   "metadata": {
    "scrolled": true
   },
   "outputs": [
    {
     "data": {
      "text/html": [
       "<div>\n",
       "<style scoped>\n",
       "    .dataframe tbody tr th:only-of-type {\n",
       "        vertical-align: middle;\n",
       "    }\n",
       "\n",
       "    .dataframe tbody tr th {\n",
       "        vertical-align: top;\n",
       "    }\n",
       "\n",
       "    .dataframe thead th {\n",
       "        text-align: right;\n",
       "    }\n",
       "</style>\n",
       "<table border=\"1\" class=\"dataframe\">\n",
       "  <thead>\n",
       "    <tr style=\"text-align: right;\">\n",
       "      <th></th>\n",
       "      <th>Open</th>\n",
       "      <th>High</th>\n",
       "      <th>Low</th>\n",
       "      <th>Close</th>\n",
       "      <th>Adj Close</th>\n",
       "      <th>Volume</th>\n",
       "      <th>LogDR</th>\n",
       "    </tr>\n",
       "    <tr>\n",
       "      <th>Date</th>\n",
       "      <th></th>\n",
       "      <th></th>\n",
       "      <th></th>\n",
       "      <th></th>\n",
       "      <th></th>\n",
       "      <th></th>\n",
       "      <th></th>\n",
       "    </tr>\n",
       "  </thead>\n",
       "  <tbody>\n",
       "    <tr>\n",
       "      <th>2014-12-31</th>\n",
       "      <td>20.400000</td>\n",
       "      <td>20.510000</td>\n",
       "      <td>19.990000</td>\n",
       "      <td>20.049999</td>\n",
       "      <td>19.459270</td>\n",
       "      <td>4157500</td>\n",
       "      <td>0.003982</td>\n",
       "    </tr>\n",
       "    <tr>\n",
       "      <th>2015-01-02</th>\n",
       "      <td>20.129999</td>\n",
       "      <td>20.280001</td>\n",
       "      <td>19.809999</td>\n",
       "      <td>20.129999</td>\n",
       "      <td>19.536913</td>\n",
       "      <td>2842000</td>\n",
       "      <td>-0.017034</td>\n",
       "    </tr>\n",
       "    <tr>\n",
       "      <th>2015-01-05</th>\n",
       "      <td>20.129999</td>\n",
       "      <td>20.190001</td>\n",
       "      <td>19.700001</td>\n",
       "      <td>19.790001</td>\n",
       "      <td>19.206934</td>\n",
       "      <td>4948800</td>\n",
       "      <td>-0.030787</td>\n",
       "    </tr>\n",
       "    <tr>\n",
       "      <th>2015-01-06</th>\n",
       "      <td>19.820000</td>\n",
       "      <td>19.840000</td>\n",
       "      <td>19.170000</td>\n",
       "      <td>19.190001</td>\n",
       "      <td>18.624611</td>\n",
       "      <td>4944100</td>\n",
       "      <td>-0.002609</td>\n",
       "    </tr>\n",
       "    <tr>\n",
       "      <th>2015-01-07</th>\n",
       "      <td>19.330000</td>\n",
       "      <td>19.500000</td>\n",
       "      <td>19.080000</td>\n",
       "      <td>19.139999</td>\n",
       "      <td>18.576082</td>\n",
       "      <td>8045200</td>\n",
       "      <td>0.036927</td>\n",
       "    </tr>\n",
       "    <tr>\n",
       "      <th>...</th>\n",
       "      <td>...</td>\n",
       "      <td>...</td>\n",
       "      <td>...</td>\n",
       "      <td>...</td>\n",
       "      <td>...</td>\n",
       "      <td>...</td>\n",
       "      <td>...</td>\n",
       "    </tr>\n",
       "    <tr>\n",
       "      <th>2018-01-30</th>\n",
       "      <td>241.110001</td>\n",
       "      <td>246.419998</td>\n",
       "      <td>238.410004</td>\n",
       "      <td>242.720001</td>\n",
       "      <td>242.720001</td>\n",
       "      <td>14270800</td>\n",
       "      <td>0.012610</td>\n",
       "    </tr>\n",
       "    <tr>\n",
       "      <th>2018-01-31</th>\n",
       "      <td>245.770004</td>\n",
       "      <td>249.270004</td>\n",
       "      <td>244.449997</td>\n",
       "      <td>245.800003</td>\n",
       "      <td>245.800003</td>\n",
       "      <td>11964400</td>\n",
       "      <td>-0.021798</td>\n",
       "    </tr>\n",
       "    <tr>\n",
       "      <th>2018-02-01</th>\n",
       "      <td>238.520004</td>\n",
       "      <td>246.899994</td>\n",
       "      <td>238.059998</td>\n",
       "      <td>240.500000</td>\n",
       "      <td>240.500000</td>\n",
       "      <td>12980600</td>\n",
       "      <td>-0.029452</td>\n",
       "    </tr>\n",
       "    <tr>\n",
       "      <th>2018-02-02</th>\n",
       "      <td>237.000000</td>\n",
       "      <td>237.970001</td>\n",
       "      <td>231.169998</td>\n",
       "      <td>233.520004</td>\n",
       "      <td>233.520004</td>\n",
       "      <td>17961600</td>\n",
       "      <td>-0.088695</td>\n",
       "    </tr>\n",
       "    <tr>\n",
       "      <th>2018-02-05</th>\n",
       "      <td>227.000000</td>\n",
       "      <td>233.229996</td>\n",
       "      <td>205.000000</td>\n",
       "      <td>213.699997</td>\n",
       "      <td>213.699997</td>\n",
       "      <td>28869000</td>\n",
       "      <td>NaN</td>\n",
       "    </tr>\n",
       "  </tbody>\n",
       "</table>\n",
       "<p>780 rows × 7 columns</p>\n",
       "</div>"
      ],
      "text/plain": [
       "                  Open        High         Low       Close   Adj Close  \\\n",
       "Date                                                                     \n",
       "2014-12-31   20.400000   20.510000   19.990000   20.049999   19.459270   \n",
       "2015-01-02   20.129999   20.280001   19.809999   20.129999   19.536913   \n",
       "2015-01-05   20.129999   20.190001   19.700001   19.790001   19.206934   \n",
       "2015-01-06   19.820000   19.840000   19.170000   19.190001   18.624611   \n",
       "2015-01-07   19.330000   19.500000   19.080000   19.139999   18.576082   \n",
       "...                ...         ...         ...         ...         ...   \n",
       "2018-01-30  241.110001  246.419998  238.410004  242.720001  242.720001   \n",
       "2018-01-31  245.770004  249.270004  244.449997  245.800003  245.800003   \n",
       "2018-02-01  238.520004  246.899994  238.059998  240.500000  240.500000   \n",
       "2018-02-02  237.000000  237.970001  231.169998  233.520004  233.520004   \n",
       "2018-02-05  227.000000  233.229996  205.000000  213.699997  213.699997   \n",
       "\n",
       "              Volume     LogDR  \n",
       "Date                            \n",
       "2014-12-31   4157500  0.003982  \n",
       "2015-01-02   2842000 -0.017034  \n",
       "2015-01-05   4948800 -0.030787  \n",
       "2015-01-06   4944100 -0.002609  \n",
       "2015-01-07   8045200  0.036927  \n",
       "...              ...       ...  \n",
       "2018-01-30  14270800  0.012610  \n",
       "2018-01-31  11964400 -0.021798  \n",
       "2018-02-01  12980600 -0.029452  \n",
       "2018-02-02  17961600 -0.088695  \n",
       "2018-02-05  28869000       NaN  \n",
       "\n",
       "[780 rows x 7 columns]"
      ]
     },
     "execution_count": 118,
     "metadata": {},
     "output_type": "execute_result"
    }
   ],
   "source": [
    "# Now, I will calculating the daily return in logarithmic scale\n",
    "# There are 2 reasons why I want to use logarithmic scale\n",
    "# 1) When large values skew the graph of the data\n",
    "# 2) To show multiplicative factors or percent changes\n",
    "\n",
    "df_fb['LogDR'] = np.log(df_fb['Close'].shift(-1)) - np.log(df_fb['Close'])\n",
    "df_fb"
   ]
  },
  {
   "cell_type": "code",
   "execution_count": 124,
   "id": "a25af7a5",
   "metadata": {
    "scrolled": false
   },
   "outputs": [
    {
     "data": {
      "text/html": [
       "<div>\n",
       "<style scoped>\n",
       "    .dataframe tbody tr th:only-of-type {\n",
       "        vertical-align: middle;\n",
       "    }\n",
       "\n",
       "    .dataframe tbody tr th {\n",
       "        vertical-align: top;\n",
       "    }\n",
       "\n",
       "    .dataframe thead th {\n",
       "        text-align: right;\n",
       "    }\n",
       "</style>\n",
       "<table border=\"1\" class=\"dataframe\">\n",
       "  <thead>\n",
       "    <tr style=\"text-align: right;\">\n",
       "      <th></th>\n",
       "      <th>x</th>\n",
       "      <th>pdf</th>\n",
       "    </tr>\n",
       "  </thead>\n",
       "  <tbody>\n",
       "    <tr>\n",
       "      <th>0</th>\n",
       "      <td>-0.107308</td>\n",
       "      <td>9.825282e-04</td>\n",
       "    </tr>\n",
       "    <tr>\n",
       "      <th>1</th>\n",
       "      <td>-0.106308</td>\n",
       "      <td>1.170300e-03</td>\n",
       "    </tr>\n",
       "    <tr>\n",
       "      <th>2</th>\n",
       "      <td>-0.105308</td>\n",
       "      <td>1.391739e-03</td>\n",
       "    </tr>\n",
       "    <tr>\n",
       "      <th>3</th>\n",
       "      <td>-0.104308</td>\n",
       "      <td>1.652446e-03</td>\n",
       "    </tr>\n",
       "    <tr>\n",
       "      <th>4</th>\n",
       "      <td>-0.103308</td>\n",
       "      <td>1.958867e-03</td>\n",
       "    </tr>\n",
       "    <tr>\n",
       "      <th>...</th>\n",
       "      <td>...</td>\n",
       "      <td>...</td>\n",
       "    </tr>\n",
       "    <tr>\n",
       "      <th>374</th>\n",
       "      <td>0.266692</td>\n",
       "      <td>1.476754e-23</td>\n",
       "    </tr>\n",
       "    <tr>\n",
       "      <th>375</th>\n",
       "      <td>0.267692</td>\n",
       "      <td>9.697482e-24</td>\n",
       "    </tr>\n",
       "    <tr>\n",
       "      <th>376</th>\n",
       "      <td>0.268692</td>\n",
       "      <td>6.357969e-24</td>\n",
       "    </tr>\n",
       "    <tr>\n",
       "      <th>377</th>\n",
       "      <td>0.269692</td>\n",
       "      <td>4.161849e-24</td>\n",
       "    </tr>\n",
       "    <tr>\n",
       "      <th>378</th>\n",
       "      <td>0.270692</td>\n",
       "      <td>2.719962e-24</td>\n",
       "    </tr>\n",
       "  </tbody>\n",
       "</table>\n",
       "<p>379 rows × 2 columns</p>\n",
       "</div>"
      ],
      "text/plain": [
       "            x           pdf\n",
       "0   -0.107308  9.825282e-04\n",
       "1   -0.106308  1.170300e-03\n",
       "2   -0.105308  1.391739e-03\n",
       "3   -0.104308  1.652446e-03\n",
       "4   -0.103308  1.958867e-03\n",
       "..        ...           ...\n",
       "374  0.266692  1.476754e-23\n",
       "375  0.267692  9.697482e-24\n",
       "376  0.268692  6.357969e-24\n",
       "377  0.269692  4.161849e-24\n",
       "378  0.270692  2.719962e-24\n",
       "\n",
       "[379 rows x 2 columns]"
      ]
     },
     "execution_count": 124,
     "metadata": {},
     "output_type": "execute_result"
    }
   ],
   "source": [
    "mu = df_fb['LogDR'].mean()\n",
    "sigma = df_fb['LogDR'].std(ddof=1)\n",
    "\n",
    "# Create density line plot \n",
    "# np.arange to return evenly spaced values within a given interval\n",
    "\n",
    "density = pd.DataFrame()\n",
    "density['x'] = np.arange(df_fb['LogDR'].min() - 0.01, df_fb['LogDR'].max() + 0.01, 0.001)\n",
    "density['pdf'] = norm.pdf(density['x'], mu, sigma)\n",
    "\n",
    "density"
   ]
  },
  {
   "cell_type": "code",
   "execution_count": 129,
   "id": "fb40a706",
   "metadata": {},
   "outputs": [
    {
     "data": {
      "image/png": "[encoded data removed]",
      "text/plain": [
       "<Figure size 1080x576 with 1 Axes>"
      ]
     },
     "metadata": {
      "needs_background": "light"
     },
     "output_type": "display_data"
    }
   ],
   "source": [
    "# Plot histogram of Log Daily Return and Probability Density Function on the same plot\n",
    "# I assume that the values are discrete, from min. to max. stock price\n",
    "\n",
    "df_fb['LogDR'].hist(bins = 50, figsize = (15, 8))\n",
    "plt.plot(density['x'], density['pdf'], color = 'red')\n",
    "plt.show()"
   ]
  },
  {
   "cell_type": "code",
   "execution_count": 167,
   "id": "3b87b6b7",
   "metadata": {
    "scrolled": true
   },
   "outputs": [
    {
     "name": "stdout",
     "output_type": "stream",
     "text": [
      "The Probability is  0.3014549901920741\n"
     ]
    }
   ],
   "source": [
    "# Calculate the probability that the stock will drop over 10% in a day\n",
    "# We can change the percentage by changing the confidence interval parameter\n",
    "# The norm.cdf calculate the area in the left\n",
    "\n",
    "prob_return1 = norm.cdf(-0.01, mu, sigma)\n",
    "print('The Probability is ', prob_return1)"
   ]
  },
  {
   "cell_type": "code",
   "execution_count": 149,
   "id": "733cd708",
   "metadata": {},
   "outputs": [
    {
     "name": "stdout",
     "output_type": "stream",
     "text": [
      "The probability of dropping over 40% in 252 days is (a full year)  0.0016974230735661068\n"
     ]
    }
   ],
   "source": [
    "# Drop over 40% in 252 days (a full year)\n",
    "\n",
    "mu252 = 252 * mu\n",
    "sigma252 = (252**0.5) * sigma\n",
    "print('The probability of dropping over 40% in 252 days is (a full year) ', norm.cdf(-0.40, mu252, sigma252))"
   ]
  },
  {
   "cell_type": "markdown",
   "id": "45f274fe",
   "metadata": {},
   "source": [
    "## Calculating the VaR (Value at Risk)\n",
    "\n",
    "Value at Risk is a statistic that quantifies the extent of possible financial losses within a firm, portfolio, or position over a specific time."
   ]
  },
  {
   "cell_type": "code",
   "execution_count": 170,
   "id": "d47ff618",
   "metadata": {},
   "outputs": [
    {
     "name": "stdout",
     "output_type": "stream",
     "text": [
      "Single day value at risk -0.038185354350792663\n"
     ]
    }
   ],
   "source": [
    "# We can calculate the VaR like using ppf\n",
    "# norm.ppf calculate area to the right (one-tail test)\n",
    "\n",
    "VaR = norm.ppf(0.05, mu, sigma)\n",
    "print('Single day value at risk', VaR)\n",
    "\n",
    "# How to interpret?\n",
    "# At a single day, with 95% confidence, we do not expect to lose more than 3%"
   ]
  },
  {
   "cell_type": "code",
   "execution_count": 171,
   "id": "cad05b2b",
   "metadata": {},
   "outputs": [
    {
     "name": "stdout",
     "output_type": "stream",
     "text": [
      "5% quantile  -0.038185354350792663\n",
      "25% quantile  -0.013866270900421623\n",
      "75% quantile  0.019941608626761715\n",
      "95% quantile  0.04426069207713273\n"
     ]
    }
   ],
   "source": [
    "# Set using other parameters\n",
    "\n",
    "# 5% quantile\n",
    "q5 = norm.ppf(0.05, mu, sigma)\n",
    "print('5% quantile ', q5)\n",
    "# 25% quantile\n",
    "q25 = norm.ppf(0.25, mu, sigma)\n",
    "print('25% quantile ', q25)\n",
    "# 75% quantile\n",
    "q75 = norm.ppf(0.75, mu, sigma)\n",
    "print('75% quantile ', q75)\n",
    "# 95% quantile\n",
    "q95 = norm.ppf(0.95, mu, sigma)\n",
    "print('95% quantile ', q95)"
   ]
  }
 ],
 "metadata": {
  "kernelspec": {
   "display_name": "Python 3 (ipykernel)",
   "language": "python",
   "name": "python3"
  },
  "language_info": {
   "codemirror_mode": {
    "name": "ipython",
    "version": 3
   },
   "file_extension": ".py",
   "mimetype": "text/x-python",
   "name": "python",
   "nbconvert_exporter": "python",
   "pygments_lexer": "ipython3",
   "version": "3.9.12"
  }
 },
 "nbformat": 4,
 "nbformat_minor": 5
}
